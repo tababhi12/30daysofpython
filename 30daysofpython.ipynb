{
 "cells": [
  {
   "cell_type": "code",
   "execution_count": 1,
   "metadata": {},
   "outputs": [
    {
     "data": {
      "text/plain": [
       "True"
      ]
     },
     "execution_count": 1,
     "metadata": {},
     "output_type": "execute_result"
    }
   ],
   "source": [
    "isinstance(3,int)"
   ]
  },
  {
   "cell_type": "code",
   "execution_count": 5,
   "metadata": {},
   "outputs": [
    {
     "name": "stdout",
     "output_type": "stream",
     "text": [
      "['AA', 'BB', 'aa', 'bb']\n",
      "['BB', 'bb', 'AA', 'aa']\n"
     ]
    }
   ],
   "source": [
    "l1 = ['AA','aa','BB','bb']\n",
    "l1.sort()\n",
    "print(l1)\n",
    "l1.sort(key = str.lower,reverse = True)\n",
    "print(l1)"
   ]
  },
  {
   "cell_type": "markdown",
   "metadata": {},
   "source": [
    "## smtplib — SMTP protocol client¶"
   ]
  },
  {
   "cell_type": "raw",
   "metadata": {},
   "source": [
    "The smtplib module defines an SMTP client session object that can be used to send mail to any Internet machine with an SMTP or ESMTP listener daemon. For details of SMTP and ESMTP operation, consult RFC 821 (Simple Mail Transfer Protocol) and RFC 1869 (SMTP Service Extensions).\n",
    "\n",
    "For normal use, you should only require the initialization/connect, sendmail(), and SMTP.quit() methods. \n",
    "\n",
    "class smtplib.SMTP(host='', port=0, local_hostname=None, [timeout, ]source_address=None)¶\n",
    "\n",
    "The SMTP class supports the with statement. When used like this, the SMTP QUIT command is issued automatically when the with statement.\n",
    "\n",
    "from smtplib import SMTP\n",
    "with SMTP(\"domain.org\") as smtp:\n",
    "...     smtp.noop()\n"
   ]
  },
  {
   "cell_type": "markdown",
   "metadata": {},
   "source": [
    "# Exceptions"
   ]
  },
  {
   "cell_type": "raw",
   "metadata": {},
   "source": [
    "exception smtplib.SMTPException\n",
    "Subclass of OSError that is the base exception class for all the other exceptions provided by this module.\n",
    "\n",
    "Changed in version 3.4: SMTPException became subclass of OSError\n",
    "\n",
    "exception smtplib.SMTPServerDisconnected\n",
    "This exception is raised when the server unexpectedly disconnects, or when an attempt is made to use the SMTP instance before connecting it to a server.\n",
    "\n",
    "exception smtplib.SMTPResponseException\n",
    "Base class for all exceptions that include an SMTP error code. These exceptions are generated in some instances when the SMTP server returns an error code. The error code is stored in the smtp_code attribute of the error, and the smtp_error attribute is set to the error message.\n",
    "\n",
    "exception smtplib.SMTPSenderRefused\n",
    "Sender address refused. In addition to the attributes set by on all SMTPResponseException exceptions, this sets ‘sender’ to the string that the SMTP server refused.\n",
    "\n",
    "exception smtplib.SMTPRecipientsRefused\n",
    "All recipient addresses refused. The errors for each recipient are accessible through the attribute recipients, which is a dictionary of exactly the same sort as SMTP.sendmail() returns.\n",
    "\n",
    "exception smtplib.SMTPDataError\n",
    "The SMTP server refused to accept the message data.\n",
    "\n",
    "exception smtplib.SMTPConnectError\n",
    "Error occurred during establishment of a connection with the server.\n",
    "\n",
    "exception smtplib.SMTPHeloError\n",
    "The server refused our HELO message.\n",
    "\n",
    "exception smtplib.SMTPNotSupportedError\n",
    "The command or option attempted is not supported by the server.\n",
    "\n",
    "New in version 3.5.\n",
    "\n",
    "exception smtplib.SMTPAuthenticationError\n",
    "SMTP authentication went wrong. Most probably the server didn’t accept the username/password combination provided."
   ]
  },
  {
   "cell_type": "markdown",
   "metadata": {},
   "source": [
    "# SMTP Objects"
   ]
  },
  {
   "cell_type": "raw",
   "metadata": {},
   "source": [
    "SMTP.set_debuglevel(level)\n",
    "Set the debug output level. A true value for level results in debug messages for connection and for all messages sent to and received from the server.\n",
    "\n",
    "SMTP.docmd(cmd[, argstring])\n",
    "Send a command cmd to the server. The optional argument argstring is simply concatenated to the command, separated by a space.\n",
    "\n",
    "This returns a 2-tuple composed of a numeric response code and the actual response line (multiline responses are joined into one long line.)\n",
    "\n",
    "In normal operation it should not be necessary to call this method explicitly. It is used to implement other methods and may be useful for testing private extensions.\n",
    "\n",
    "If the connection to the server is lost while waiting for the reply, SMTPServerDisconnected will be raised.\n",
    "\n",
    "SMTP.connect([host[, port]])\n",
    "Connect to a host on a given port. The defaults are to connect to the local host at the standard SMTP port (25). If the hostname ends with a colon (':') followed by a number, that suffix will be stripped off and the number interpreted as the port number to use. This method is automatically invoked by the constructor if a host is specified during instantiation. Returns a 2-tuple of the response code and message sent by the server in its connection response.\n",
    "\n",
    "SMTP.helo([hostname])\n",
    "Identify yourself to the SMTP server using HELO. The hostname argument defaults to the fully qualified domain name of the local host. The message returned by the server is stored as the helo_resp attribute of the object.\n",
    "\n",
    "In normal operation it should not be necessary to call this method explicitly. It will be implicitly called by the sendmail() when necessary.\n",
    "\n",
    "SMTP.ehlo([hostname])\n",
    "Identify yourself to an ESMTP server using EHLO. The hostname argument defaults to the fully qualified domain name of the local host. Examine the response for ESMTP option and store them for use by has_extn(). Also sets several informational attributes: the message returned by the server is stored as the ehlo_resp attribute, does_esmtp is set to true or false depending on whether the server supports ESMTP, and esmtp_features will be a dictionary containing the names of the SMTP service extensions this server supports, and their parameters (if any).\n",
    "\n",
    "Unless you wish to use has_extn() before sending mail, it should not be necessary to call this method explicitly. It will be implicitly called by sendmail() when necessary.\n",
    "\n",
    "SMTP.ehlo_or_helo_if_needed()\n",
    "This method call ehlo() and or helo() if there has been no previous EHLO or HELO command this session. It tries ESMTP EHLO first.\n",
    "\n",
    "SMTPHeloError\n",
    "The server didn’t reply properly to the HELO greeting.\n",
    "New in version 2.6.\n",
    "\n",
    "SMTP.has_extn(name)\n",
    "Return True if name is in the set of SMTP service extensions returned by the server, False otherwise. Case is ignored.\n",
    "\n",
    "SMTP.verify(address)\n",
    "Check the validity of an address on this server using SMTP VRFY. Returns a tuple consisting of code 250 and a full RFC 822 address (including human name) if the user address is valid. Otherwise returns an SMTP error code of 400 or greater and an error string.\n",
    "\n",
    "SMTP.quit()\n",
    "SMTP.send_message(msg, from_addr=None, to_addrs=None, mail_options=(), rcpt_options=())\n",
    "SMTP.sendmail(from_addr, to_addrs, msg, mail_options=(), rcpt_options=())"
   ]
  },
  {
   "cell_type": "markdown",
   "metadata": {},
   "source": [
    "# Code"
   ]
  },
  {
   "cell_type": "markdown",
   "metadata": {},
   "source": [
    "### Send plain text"
   ]
  },
  {
   "cell_type": "code",
   "execution_count": null,
   "metadata": {},
   "outputs": [],
   "source": [
    "from smtplib import SMTP,SMTPAuthenticationError\n",
    "\n",
    "host = 'smtp.gmail.com'\n",
    "port = 587\n",
    "username = 'pytesting1207@gmail.com'\n",
    "password = 'Python@123'\n",
    "from_email = 'pytesting1207@gmail.com'\n",
    "to_mail = ['abhishekebay02@gmail.com']\n",
    "msg = 'This is a testing mail'\n",
    "try:\n",
    "    email_conn = SMTP(host,port)\n",
    "    print(email_conn.ehlo())\n",
    "    email_conn.starttls()\n",
    "    print(email_conn.login(username,password))\n",
    "    email_conn.sendmail(from_email,to_mail,msg)\n",
    "\n",
    "except SMTPAuthenticationError as s:\n",
    "    print(s)\n",
    "except Exception as e:\n",
    "    print(e)\n",
    "\n",
    "finally:\n",
    "    email_conn.quit()"
   ]
  },
  {
   "cell_type": "markdown",
   "metadata": {},
   "source": [
    "### Send html"
   ]
  },
  {
   "cell_type": "code",
   "execution_count": null,
   "metadata": {},
   "outputs": [],
   "source": [
    "from smtplib import SMTP,SMTPAuthenticationError,SMTPException\n",
    "from email.mime.multipart import MIMEMultipart\n",
    "from email.mime.text import MIMEText\n",
    "\n",
    "host = 'smtp.gmail.com'\n",
    "port = 587\n",
    "username = 'pytesting1207@gmail.com'\n",
    "password = 'Python@123'\n",
    "from_email = 'pytesting1207@gmail.com'\n",
    "to_mail = ['abhishekebay02@gmail.com']\n",
    "msg = 'This is a testing mail'\n",
    "try:\n",
    "    email_conn = SMTP(host,port)\n",
    "    print(email_conn.ehlo())\n",
    "    email_conn.starttls()\n",
    "    print(email_conn.login(username,password))\n",
    "    the_msg = MIMEMultipart('alternative')\n",
    "    the_msg['Subject'] = 'Testing'\n",
    "    the_msg['From'] = from_email\n",
    "    #the_msg['To'] = to_mail\n",
    "    plain_text = 'This is a testing message'\n",
    "    html_text = '''\n",
    "    <html>\n",
    "    <head></head>\n",
    "    <body>\n",
    "    <p>Hey!<br/>This is a testing message.Made by me</p>\n",
    "    </body>\n",
    "    </html>\n",
    "    '''\n",
    "    part1 = MIMEText(plain_text,'plain')\n",
    "    part2 = MIMEText(html_text,'html')\n",
    "    the_msg.attach(part1)\n",
    "    the_msg.attach(part2)\n",
    "    email_conn.sendmail(from_email,to_mail,the_msg.as_string())\n",
    "\n",
    "except SMTPAuthenticationError as s:\n",
    "    print(s)\n",
    "except SMTPException as a:\n",
    "    print(a)\n",
    "except Exception as e:\n",
    "    print(e)\n",
    "\n",
    "finally:\n",
    "    email_conn.quit()"
   ]
  },
  {
   "cell_type": "markdown",
   "metadata": {},
   "source": [
    "# shutil"
   ]
  },
  {
   "cell_type": "raw",
   "metadata": {},
   "source": [
    "The shutil module offers a number of high-level operations on files and collections of files. In particular, functions are provided which support file copying and removal. For operations on individual files, see also the os module."
   ]
  },
  {
   "cell_type": "markdown",
   "metadata": {},
   "source": [
    "## Directory and files operations"
   ]
  },
  {
   "cell_type": "code",
   "execution_count": null,
   "metadata": {},
   "outputs": [],
   "source": [
    "shutil.copyfileobj(fsrc, fdst[, length])\n",
    "Copy the contents of the file-like object fsrc to the file-like object fdst. The integer length, if given, is the buffer size.\n",
    "\n",
    "shutil.copyfile(src, dst, *, follow_symlinks=True)\n",
    "Copy the contents (no metadata) of the file named src to a file named dst and return dst. src and dst are path names given as strings. dst must be the complete target file name;\n",
    "look at shutil.copy() for a copy that accepts a target directory path. If src and dst specify the same file, SameFileError is raised.\n",
    "\n",
    "exception shutil.SameFileError\n",
    "This exception is raised if source and destination in copyfile() are the same file.\n",
    "\n",
    "shutil.copymode(src, dst, *, follow_symlinks=True)\n",
    "Copy the permission bits from src to dst. The file contents, owner, and group are unaffected. src and dst are path names given as strings.\n",
    "\n",
    "shutil.copystat(src, dst, *, follow_symlinks=True)\n",
    "Copy the permission bits, last access time, last modification time, and flags from src to dst. On Linux, copystat() also copies the “extended attributes” where possible.\n",
    "The file contents, owner, and group are unaffected. src and dst are path names given as strings.\n",
    "\n",
    "shutil.copy(src, dst, *, follow_symlinks=True)\n",
    "Copies the file src to the file or directory dst. src and dst should be strings.\n",
    "If dst specifies a directory, the file will be copied into dst using the base filename from src. Returns the path to the newly created file.\n",
    "\n",
    "shutil.copy2(src, dst, *, follow_symlinks=True)\n",
    "Identical to copy() except that copy2() also attempts to preserve file metadata.\n",
    "\n",
    "shutil.ignore_patterns(*patterns)\n",
    "This factory function creates a function that can be used as a callable for copytree()’s ignore argument, ignoring files and directories that match one of the glob-style patterns provided.\n",
    "\n",
    "shutil.copytree(src, dst, symlinks=False, ignore=None, copy_function=copy2, ignore_dangling_symlinks=False)\n",
    "Recursively copy an entire directory tree rooted at src, returning the destination directory. The destination directory,\n",
    "named by dst, must not already exist; it will be created as well as missing parent directories. \n",
    "Permissions and times of directories are copied with copystat(), individual files are copied using shutil.copy2().\n",
    "\n",
    "shutil.rmtree(path, ignore_errors=False, onerror=None)\n",
    "Delete an entire directory tree; path must point to a directory (but not a symbolic link to a directory).\n",
    "\n",
    "shutil.move(src, dst, copy_function=copy2)\n",
    "Recursively move a file or directory (src) to another location (dst) and return the destination.\n",
    "\n",
    "shutil.disk_usage(path)\n",
    "Return disk usage statistics about the given path as a named tuple with the attributes total, used and free, which are the amount of total, used and free space, in bytes. \n",
    "\n",
    "shutil.chown(path, user=None, group=None)\n",
    "Change owner user and/or group of the given path.\n",
    "\n",
    "shutil.which(cmd, mode=os.F_OK | os.X_OK, path=None)\n",
    "Return the path to an executable which would be run if the given cmd was called. If no cmd would be called, return None.\n",
    "\n",
    "exception shutil.Error\n",
    "This exception collects exceptions that are raised during a multi-file operation. For copytree(), the exception argument is a list of 3-tuples (srcname, dstname, exception)."
   ]
  },
  {
   "cell_type": "markdown",
   "metadata": {},
   "source": [
    "## Archiving operations"
   ]
  },
  {
   "cell_type": "code",
   "execution_count": null,
   "metadata": {},
   "outputs": [],
   "source": [
    "shutil.make_archive(base_name, format[, root_dir[, base_dir[, verbose[, dry_run[, owner[, group[, logger]]]]]]])\n",
    "Create an archive file (such as zip or tar) and return its name."
   ]
  },
  {
   "cell_type": "markdown",
   "metadata": {},
   "source": [
    "# tempfile — Generate temporary files and directories"
   ]
  },
  {
   "cell_type": "raw",
   "metadata": {},
   "source": [
    "This module generates temporary files and directories. It works on all supported platforms.t now provides three new functions, NamedTemporaryFile(), mkstemp(), and mkdtemp(), \n",
    "which should eliminate all remaining need to use the insecure mktemp() function. Temporary file names created by this module no longer contain the process ID; \n",
    "instead a string of six random characters is used."
   ]
  },
  {
   "cell_type": "code",
   "execution_count": null,
   "metadata": {},
   "outputs": [],
   "source": [
    "tempfile.TemporaryFile([mode='w+b'[, bufsize=-1[, suffix=''[, prefix='tmp'[, dir=None]]]]])\n",
    "Return a file-like object that can be used as a temporary storage area. The file is created using mkstemp().\n",
    "It will be destroyed as soon as it is closed (including an implicit close when the object is garbage collected).\n",
    "Under Unix, the directory entry for the file is removed immediately after the file is created. \n",
    "Other platforms do not support this; your code should not rely on a temporary file created using this function having or not having a visible name in the file system.\n",
    "The mode parameter defaults to 'w+b' so that the file created can be read and written without being closed. \n",
    "Binary mode is used so that it behaves consistently on all platforms without regard for the data that is stored. bufsize defaults to -1, meaning that the operating system default is used.\n",
    "\n",
    "tempfile.NamedTemporaryFile([mode='w+b'[, bufsize=-1[, suffix=''[, prefix='tmp'[, dir=None[, delete=True]]]]]])\n",
    "This function operates exactly as TemporaryFile() does, except that the file is guaranteed to have a visible name in the file system (on Unix, the directory entry is not unlinked). \n",
    "That name can be retrieved from the name attribute of the returned file-like object. \n",
    "Whether the name can be used to open the file a second time, while the named temporary file is still open, varies across platforms (it can be so used on Unix; it cannot on Windows NT or later). \n",
    "If delete is true (the default), the file is deleted as soon as it is closed.\n",
    "The returned object is always a file-like object whose file attribute is the underlying true file object. This file-like object can be used in a with statement, just like a normal file.\n",
    "\n",
    "tempfile.mkstemp([suffix=''[, prefix='tmp'[, dir=None[, text=False]]]])\n",
    "Creates a temporary file in the most secure manner possible. There are no race conditions in the file’s creation, assuming that the platform properly implements the os.O_EXCL flag for os.open(). \n",
    "The file is readable and writable only by the creating user ID. If the platform uses permission bits to indicate whether a file is executable, the file is executable by no one. \n",
    "The file descriptor is not inherited by child processes.\n",
    "Unlike TemporaryFile(), the user of mkstemp() is responsible for deleting the temporary file when done with it.\n",
    "\n",
    "tempfile.mkdtemp([suffix=''[, prefix='tmp'[, dir=None]]])\n",
    "Creates a temporary directory in the most secure manner possible. There are no race conditions in the directory’s creation. \n",
    "The directory is readable, writable, and searchable only by the creating user ID.\n",
    "The user of mkdtemp() is responsible for deleting the temporary directory and its contents when done with it.\n",
    "The prefix, suffix, and dir arguments are the same as for mkstemp().\n",
    "mkdtemp() returns the absolute pathname of the new directory."
   ]
  },
  {
   "cell_type": "markdown",
   "metadata": {},
   "source": [
    "# argparse — Parser for command-line options, arguments and sub-commands"
   ]
  },
  {
   "cell_type": "code",
   "execution_count": null,
   "metadata": {},
   "outputs": [],
   "source": [
    "The argparse module makes it easy to write user-friendly command-line interfaces. The program defines what arguments it requires, and argparse will figure out how to parse those out of sys.argv. \n",
    "The argparse module also automatically generates help and usage messages and issues errors when users give the program invalid arguments.\n",
    "create a __init__.py and __main__.py files in folder.open __main__ file and write below code\n",
    "\n",
    "import argparse\n",
    "\n",
    "parser = argparse.ArgumentParser(prog='folder_name')\n",
    "parser.add_argument('-id','--user_id', type=int, nargs='+',\n",
    "                    help='an integer for the accumulator')\n",
    "args = parser.parse_args()\n",
    "print(args.accumulate(id = args.id))"
   ]
  },
  {
   "cell_type": "markdown",
   "metadata": {},
   "source": [
    "# Requests: HTTP for Humans"
   ]
  },
  {
   "cell_type": "code",
   "execution_count": null,
   "metadata": {},
   "outputs": [],
   "source": [
    "Requests is the only Non-GMO HTTP library for Python, safe for human consumption.\n",
    "import requests\n",
    ">>> r = requests.get('https://api.github.com/events')\n",
    ">>> r = requests.post('https://httpbin.org/post', data = {'key':'value'})\n",
    ">>> r = requests.put('https://httpbin.org/put', data = {'key':'value'})\n",
    ">>> r = requests.delete('https://httpbin.org/delete')\n",
    ">>> r = requests.head('https://httpbin.org/get')\n",
    ">>> r = requests.options('https://httpbin.org/get')"
   ]
  },
  {
   "cell_type": "markdown",
   "metadata": {},
   "source": [
    "### Passing Parameters In URLs"
   ]
  },
  {
   "cell_type": "code",
   "execution_count": null,
   "metadata": {},
   "outputs": [],
   "source": [
    ">>> payload = {'key1': 'value1', 'key2': 'value2'}\n",
    ">>> r = requests.get('https://httpbin.org/get', params=payload)\n",
    ">>> print(r.url)\n",
    "https://httpbin.org/get?key2=value2&key1=value1\n",
    ">>> payload = {'key1': 'value1', 'key2': ['value2', 'value3']}\n",
    "\n",
    ">>> r = requests.get('https://httpbin.org/get', params=payload)\n",
    ">>> print(r.url)\n",
    "https://httpbin.org/get?key1=value1&key2=value2&key2=value3"
   ]
  },
  {
   "cell_type": "markdown",
   "metadata": {},
   "source": [
    "### Response Content"
   ]
  },
  {
   "cell_type": "code",
   "execution_count": null,
   "metadata": {},
   "outputs": [],
   "source": [
    ">>> import requests\n",
    "\n",
    ">>> r = requests.get('https://api.github.com/events')\n",
    ">>> r.text\n",
    "u'[{\"repository\":{\"open_issues\":0,\"url\":\"https://github.com/...\n",
    "\n",
    "Requests will automatically decode content from the server. Most unicode charsets are seamlessly decoded.\n",
    "When you make a request, Requests makes educated guesses about the encoding of the response based on the HTTP headers.\n",
    "The text encoding guessed by Requests is used when you access r.text. You can find out what encoding Requests is using, and change it, using the r.encoding property:\n",
    ">>> r.encoding\n",
    "'utf-8'\n",
    ">>> r.encoding = 'ISO-8859-1'"
   ]
  },
  {
   "cell_type": "markdown",
   "metadata": {},
   "source": [
    "# Web scrapping"
   ]
  },
  {
   "cell_type": "code",
   "execution_count": null,
   "metadata": {},
   "outputs": [],
   "source": [
    "#with fix url\n",
    "import requests\n",
    "from bs4 import BeautifulSoup\n",
    "url = 'https://www.yelp.com/search?cflt=restaurants&find_loc=San+Francisco%2C+CA'\n",
    "yelp_r = requests.get(url)\n",
    "print(yelp_r)\n",
    "print(yelp_r.status_code)\n",
    "soup = BeautifulSoup(yelp_r.text,'html.parser')\n",
    "print(soup.prettify())"
   ]
  },
  {
   "cell_type": "code",
   "execution_count": 55,
   "metadata": {},
   "outputs": [
    {
     "name": "stdout",
     "output_type": "stream",
     "text": [
      "0\n",
      "30\n",
      "60\n",
      "90\n",
      "120\n",
      "150\n",
      "180\n"
     ]
    }
   ],
   "source": [
    "#with dynamic url \n",
    "import requests\n",
    "from bs4 import BeautifulSoup\n",
    "file = 'scrapping_data.txt'\n",
    "base_url = 'https://www.yelp.com/search?cflt=restaurants&find_loc='\n",
    "page = 0\n",
    "while page < 200:\n",
    "    print(page)\n",
    "    loc = 'New York,NY'\n",
    "    url = base_url + loc + '&start=' + str(page)\n",
    "    yelp_r = requests.get(url)\n",
    "    #print(yelp_r.status_code)\n",
    "    soup = BeautifulSoup(yelp_r.text,'html.parser')\n",
    "    #print(soup.prettify())\n",
    "    bel = soup.findAll('div',{'class':'lemon--div__373c0__1mboc businessName__373c0__1fTgn border-color--default__373c0__2oFDT'})\n",
    "    addphone = soup.findAll('div',{'class':'lemon--div__373c0__1mboc container__373c0__19wDx u-padding-l2 border-color--default__373c0__2oFDT text-align--right__373c0__3fmmn'})\n",
    "    for ad,b in zip(addphone,bel):\n",
    "        with open(file,'a') as f:\n",
    "            try:\n",
    "                title = b.findAll('a')[0].text\n",
    "                address = ad.findAll('address')[0].text\n",
    "                phone = ad.findAll('div',{'class':'lemon--div__373c0__1mboc display--inline-block__373c0__2de_K u-space-b1 border-color--default__373c0__2oFDT'})[0].text\n",
    "                page_line = f'{title} has address {address} and phone number {phone}'  \n",
    "                f.write(page_line)\n",
    "            except:\n",
    "                pass\n",
    "    page = page + 30"
   ]
  },
  {
   "cell_type": "markdown",
   "metadata": {},
   "source": [
    "# Javascript Scrapping"
   ]
  },
  {
   "cell_type": "code",
   "execution_count": null,
   "metadata": {},
   "outputs": [],
   "source": [
    "import os\n",
    "import requests\n",
    "from selenium import webdriver\n",
    "from bs4 import BeautifulSoup\n",
    "filepath = os.path.dirname(__file__) + '/chromedriver_win32/chromedriver.exe'\n",
    "print(filepath)\n",
    "\n",
    "url = 'https://www.google.com/search?q=avengers&safe=active&source=lnms&tbm=isch&sa=X&ved=0ahUKEwilgYXLgN_hAhWf6nMBHTKYB8EQ_AUIDygC&biw=1920&bih=975'\n",
    "\n",
    "web_r = requests.get(url)\n",
    "print(web_r.status_code)\n",
    "soup = BeautifulSoup(web_r.text,'html.parser')\n",
    "print(len(soup.findAll('img')))\n",
    "\n",
    "driver = webdriver.Chrome(filepath)\n",
    "driver.get(url)\n",
    "html = driver.execute_script(\"return document.documentElement.outerHTML\")\n",
    "sel_soup = BeautifulSoup(html,'html.parser')\n",
    "print(len(sel_soup.findAll('img')))\n",
    "\n",
    "images = []\n",
    "for i in sel_soup.findAll('img'):\n",
    "    print(i)\n",
    "    src = i['src']\n",
    "    images.append(src)\n",
    "print(images)"
   ]
  },
  {
   "cell_type": "code",
   "execution_count": null,
   "metadata": {},
   "outputs": [],
   "source": [
    "import os\n",
    "import shutil\n",
    "import time\n",
    "import requests\n",
    "from bs4 import BeautifulSoup\n",
    "from selenium import webdriver\n",
    "\n",
    "url = 'https://www.google.com/search?q=avengers&safe=active&source=lnms&tbm=isch&sa=X&ved=0ahUKEwilgYXLgN_hAhWf6nMBHTKYB8EQ_AUIDygC&biw=1920&bih=975'\n",
    "\n",
    "filepath = os.path.dirname(__file__) + '/chromedriver_win32/chromedriver.exe'\n",
    "print(filepath)\n",
    "\n",
    "web_r = requests.get(url)\n",
    "web_soup = BeautifulSoup(web_r.text, 'html.parser')\n",
    "print(web_soup.findAll(\"img\"))\n",
    "#<img src=''/>\n",
    "driver = webdriver.Chrome(filepath)\n",
    "driver.get(url)\n",
    "iterations = 0\n",
    "while iterations < 10:\n",
    "    html = driver.execute_script(\"return document.documentElement.outerHTML\")\n",
    "    sel_soup = BeautifulSoup(html, 'html.parser')\n",
    "    print(len(sel_soup.findAll(\"img\")))\n",
    "    images = []\n",
    "    for i in sel_soup.findAll(\"img\"):\n",
    "        src = i[\"src\"]\n",
    "        images.append(src)\n",
    "    print(images)\n",
    "    current_path = os.getcwd()\n",
    "    for img in images:\n",
    "        try:\n",
    "            file_name = os.path.basename(img)\n",
    "            img_r = requests.get(img, stream=True)\n",
    "            new_path = os.path.join(current_path, \"images\", file_name)\n",
    "            with open(new_path, \"wb\") as output_file:\n",
    "                shutil.copyfileobj(img_r.raw, output_file)\n",
    "            del img_r\n",
    "        except:\n",
    "            pass\n",
    "    iterations += 1\n",
    "    time.sleep(5)"
   ]
  },
  {
   "cell_type": "markdown",
   "metadata": {},
   "source": [
    "# ImageScraper 2.0.7"
   ]
  },
  {
   "cell_type": "raw",
   "metadata": {},
   "source": [
    "install: pip install ImageScraper\n",
    "Format: image-scraper [OPTIONS] URL\n",
    "\n",
    "Scrape all images:\n",
    "    image-scraper  ananth.co.in/test.html\n",
    "    \n",
    "Scrape at max 2 images:\n",
    "    image-scraper -m 2 ananth.co.in/test.html\n",
    "    \n",
    "Scrape only gifs and download to folder ./mygifs:\n",
    "    image-scraper -s mygifs ananth.co.in/test.html --formats gif"
   ]
  },
  {
   "cell_type": "markdown",
   "metadata": {},
   "source": [
    "# Get Data Using API for yelp"
   ]
  },
  {
   "cell_type": "code",
   "execution_count": null,
   "metadata": {},
   "outputs": [],
   "source": [
    "import requests\n",
    "import json\n",
    "api_key = 'QckQ4YpbZ819kvujGxxBHwU3Uc4_z99l9JoP8PJY287cboAvrMsptlsiEaN0jhRsOf71xF2Bgq1pHlOJWboOZJqEfA5TNycA9xMNkTrCXZ1hBYgn4NOdwvlzRlO8XHYx'\n",
    "headers = {'Authorization':'Bearer %s' %api_key}\n",
    "\n",
    "url = 'https://api.yelp.com/v3/businesses/search'\n",
    "param = {'term':'seafood','location':'New York City'}\n",
    "\n",
    "req = requests.get(url,params = param,headers= headers)\n",
    "print(req.status_code)\n",
    "response = req.json()\n",
    "for i in response['businesses']:\n",
    "    print(i[\"name\"])\n",
    "    print(i[\"phone\"])\n",
    "    print(i[\"location\"][\"display_address\"])\n",
    "    print(i[\"location\"][\"city\"])"
   ]
  },
  {
   "cell_type": "markdown",
   "metadata": {},
   "source": [
    "# Send Messages using Twilio"
   ]
  },
  {
   "cell_type": "markdown",
   "metadata": {},
   "source": [
    "### using programmable sms api"
   ]
  },
  {
   "cell_type": "code",
   "execution_count": null,
   "metadata": {},
   "outputs": [],
   "source": [
    "url = https://www.twilio.com/"
   ]
  },
  {
   "cell_type": "code",
   "execution_count": null,
   "metadata": {},
   "outputs": [],
   "source": [
    "from twilio.rest import Client\n",
    "\n",
    "\n",
    "# Your Account Sid and Auth Token from twilio.com/console\n",
    "# DANGER! This is insecure. See http://twil.io/secure\n",
    "account_sid = 'ACf888ccf98d4bab54aeb599a9bfe076fb'\n",
    "auth_token = 'from_account'\n",
    "client = Client(account_sid, auth_token)\n",
    "\n",
    "message = client.messages.create(\n",
    "                              from_='+12019480914',\n",
    "                              body='this is a test message',\n",
    "                              to='+919455112807'\n",
    "                          )\n",
    "\n",
    "print(message.sid)\n",
    "message_data = client.messages.get(sid = '#after creating sms')\n",
    "print(message_data)\n",
    "print(dir(message_data))"
   ]
  },
  {
   "cell_type": "markdown",
   "metadata": {},
   "source": [
    "### Use an image url"
   ]
  },
  {
   "cell_type": "code",
   "execution_count": null,
   "metadata": {},
   "outputs": [],
   "source": [
    "# Download the helper library from https://www.twilio.com/docs/python/install\n",
    "from twilio.rest import Client\n",
    "\n",
    "\n",
    "# Your Account Sid and Auth Token from twilio.com/console\n",
    "# DANGER! This is insecure. See http://twil.io/secure\n",
    "account_sid = 'ACXXXXXXXXXXXXXXXXXXXXXXXXXXXXXXXX'\n",
    "auth_token = 'your_auth_token'\n",
    "client = Client(account_sid, auth_token)\n",
    "\n",
    "message = client.messages \\\n",
    "    .create(\n",
    "         body='This is the ship that made the Kessel Run in fourteen parsecs?',\n",
    "         from_='+15017122661',\n",
    "         media_url='https://c1.staticflickr.com/3/2899/14341091933_1e92e62d12_b.jpg',\n",
    "         to='+15558675310'\n",
    "     )\n",
    "\n",
    "print(message.sid)"
   ]
  },
  {
   "cell_type": "markdown",
   "metadata": {},
   "source": [
    "# Twitter Api and python"
   ]
  },
  {
   "cell_type": "code",
   "execution_count": null,
   "metadata": {},
   "outputs": [],
   "source": [
    "developer_url :https://developer.twitter.com/\n",
    "app_url : https://developer.twitter.com/en/apps"
   ]
  },
  {
   "cell_type": "code",
   "execution_count": null,
   "metadata": {},
   "outputs": [],
   "source": [
    "'''\n",
    "Install: pip install python-twitter\n",
    "Project Github: https://github.com/codingforentrepreneurs/30-Days-of-Python\n",
    "Github: https://github.com/bear/python-twitter\n",
    "Docs: https://python-twitter.readthedocs.io\n",
    "'''\n",
    "\n",
    "import twitter\n",
    "\n",
    "consumer_key = 'G2vW5RTt5y8gPutlPvWgIc54d'\n",
    "consumer_secret = 'CbsWYdcygM0q7zXzk9mWbE2OvMNQSKBJhikOt6Z8xAxm3c1NdC'\n",
    "access_token = '787057602484051968-mdYWmpLaVZj8emlltHs0eIXVjRuzULQ'\n",
    "access_secret = 'd7OgtcX2wgF7ttHcKqtDFDgZB9b8jYjDcnzb9awyQnY8T'\n",
    "\n",
    "api = twitter.Api(consumer_key=consumer_key,\n",
    "                consumer_secret=consumer_secret,\n",
    "                access_token_key=access_token,\n",
    "                access_token_secret=access_secret)\n",
    "\n",
    "print(api.VerifyCredentials())\n",
    "\n",
    "follwers = api.GetFollowers()\n",
    "friends = api.GetFriends()\n",
    "\n",
    "status_var = '@justinmitchel #Python is amazing! #30daysofpython http://joincfe.com/projects'\n",
    "post_update = api.PostUpdates(status=status_var)\n",
    "\n",
    "length_status = twitter.twitter_utils.calc_expected_status_length(status=status_var)\n",
    "\n",
    "new_messsage = api.PostDirectMessage(screen_name='justinmitchel', text='Hi there')\n",
    "print(new_messsage)\n",
    "\n",
    "new_magic_message = api.PostDirectMessage(screen_name='MagicJohnson', text='Hey Magic! Big fan.')\n",
    "print(new_magic_message)\n",
    "\n",
    "api.GetUser(user)\n",
    "api.GetReplies()\n",
    "api.GetUserTimeline(user)\n",
    "api.GetHomeTimeline()\n",
    "api.GetStatus(status_id=787079994451202048) #status_id = 787079994451202048\n",
    "api.DestroyStatus(status_id)\n",
    "api.GetFriends(user)\n",
    "api.GetFollowers()\n",
    "api.GetFeatured()\n",
    "api.GetDirectMessages()\n",
    "api.GetSentDirectMessages()\n",
    "api.PostDirectMessage(user, text)\n",
    "api.DestroyDirectMessage(message_id)\n",
    "api.DestroyFriendship(user)\n",
    "api.CreateFriendship(user)\n",
    "api.LookupFriendship(user)\n",
    "api.VerifyCredentials()"
   ]
  },
  {
   "cell_type": "markdown",
   "metadata": {},
   "source": [
    "# Working me Gmail"
   ]
  },
  {
   "cell_type": "code",
   "execution_count": 6,
   "metadata": {},
   "outputs": [
    {
     "name": "stdout",
     "output_type": "stream",
     "text": [
      "('OK', [b'pytesting1207@gmail.com authenticated (Success)'])\n",
      "('OK', [b'12'])\n",
      "('OK', [b'(\\\\HasNoChildren) \"/\" \"INBOX\"', b'(\\\\HasChildren \\\\Noselect) \"/\" \"[Gmail]\"', b'(\\\\All \\\\HasNoChildren) \"/\" \"[Gmail]/All Mail\"', b'(\\\\Drafts \\\\HasNoChildren) \"/\" \"[Gmail]/Drafts\"', b'(\\\\HasNoChildren \\\\Important) \"/\" \"[Gmail]/Important\"', b'(\\\\HasNoChildren \\\\Sent) \"/\" \"[Gmail]/Sent Mail\"', b'(\\\\HasNoChildren \\\\Junk) \"/\" \"[Gmail]/Spam\"', b'(\\\\Flagged \\\\HasNoChildren) \"/\" \"[Gmail]/Starred\"', b'(\\\\HasNoChildren \\\\Trash) \"/\" \"[Gmail]/Trash\"'])\n"
     ]
    }
   ],
   "source": [
    "import email\n",
    "import imaplib\n",
    "\n",
    "username = 'pytesting1207@gmail.com'\n",
    "password = 'Python@123'\n",
    "\n",
    "mail = imaplib.IMAP4_SSL('imap.gmail.com')\n",
    "print(mail.login(username,password))\n",
    "print(mail.select('inbox'))\n",
    "print(mail.list())"
   ]
  },
  {
   "cell_type": "code",
   "execution_count": 7,
   "metadata": {},
   "outputs": [
    {
     "data": {
      "text/plain": [
       "('OK', [b'Success'])"
      ]
     },
     "execution_count": 7,
     "metadata": {},
     "output_type": "execute_result"
    }
   ],
   "source": [
    "mail.create('Important')"
   ]
  },
  {
   "cell_type": "code",
   "execution_count": 8,
   "metadata": {},
   "outputs": [
    {
     "data": {
      "text/plain": [
       "('OK',\n",
       " [b'(\\\\HasNoChildren) \"/\" \"INBOX\"',\n",
       "  b'(\\\\HasNoChildren) \"/\" \"Important\"',\n",
       "  b'(\\\\HasChildren \\\\Noselect) \"/\" \"[Gmail]\"',\n",
       "  b'(\\\\All \\\\HasNoChildren) \"/\" \"[Gmail]/All Mail\"',\n",
       "  b'(\\\\Drafts \\\\HasNoChildren) \"/\" \"[Gmail]/Drafts\"',\n",
       "  b'(\\\\HasNoChildren \\\\Important) \"/\" \"[Gmail]/Important\"',\n",
       "  b'(\\\\HasNoChildren \\\\Sent) \"/\" \"[Gmail]/Sent Mail\"',\n",
       "  b'(\\\\HasNoChildren \\\\Junk) \"/\" \"[Gmail]/Spam\"',\n",
       "  b'(\\\\Flagged \\\\HasNoChildren) \"/\" \"[Gmail]/Starred\"',\n",
       "  b'(\\\\HasNoChildren \\\\Trash) \"/\" \"[Gmail]/Trash\"'])"
      ]
     },
     "execution_count": 8,
     "metadata": {},
     "output_type": "execute_result"
    }
   ],
   "source": [
    "mail.list()"
   ]
  },
  {
   "cell_type": "code",
   "execution_count": 10,
   "metadata": {},
   "outputs": [
    {
     "data": {
      "text/plain": [
       "[b'2 3 4 5 6 7 8 9 10 11 12 13']"
      ]
     },
     "execution_count": 10,
     "metadata": {},
     "output_type": "execute_result"
    }
   ],
   "source": [
    "result,data = mail.uid('search',None,'ALL')\n",
    "data"
   ]
  },
  {
   "cell_type": "code",
   "execution_count": 11,
   "metadata": {},
   "outputs": [
    {
     "data": {
      "text/plain": [
       "('OK', [b'2 3 4 5 6 7 8 9 10 11 12 13'])"
      ]
     },
     "execution_count": 11,
     "metadata": {},
     "output_type": "execute_result"
    }
   ],
   "source": [
    "mail.uid('search',None,'ALL')"
   ]
  },
  {
   "cell_type": "code",
   "execution_count": null,
   "metadata": {},
   "outputs": [],
   "source": [
    "import email\n",
    "import imaplib #imap pop\n",
    "from bs4 import BeautifulSoup\n",
    "\n",
    "import os\n",
    "import mimetypes\n",
    "\n",
    "\n",
    "\n",
    "username = 'hungrypy@gmail.com'\n",
    "password = 'iamhungry2016day19'\n",
    "\n",
    "mail = imaplib.IMAP4_SSL(\"imap.gmail.com\") # https://www.google.com/settings/security/lesssecureapps\n",
    "mail.login(username, password)\n",
    "\n",
    "mail.select(\"inbox\")\n",
    "\n",
    "#Create new folder\n",
    "# mail.create(\"Item2\")\n",
    "#list Folders\n",
    "#mail.list()\n",
    "result, data = mail.uid('search', None, \"ALL\") \n",
    "inbox_item_list = data[0].split()\n",
    "for item in inbox_item_list:\n",
    "    result2, email_data = mail.uid('fetch', item, '(RFC822)')\n",
    "    raw_email = email_data[0][1].decode(\"utf-8\")\n",
    "    email_message = email.message_from_string(raw_email)\n",
    "    to_ = email_message['To']\n",
    "    from_ = email_message['From']\n",
    "    subject_ = email_message['Subject']\n",
    "    date_ = email_message['date']\n",
    "    counter = 1\n",
    "    for part in email_message.walk():\n",
    "        if part.get_content_maintype() == \"multipart\":\n",
    "            continue \n",
    "        filename = part.get_filename()\n",
    "        content_type = part.get_content_type()\n",
    "        if not filename:\n",
    "            ext = mimetypes.guess_extension(content_type)\n",
    "            if not ext:\n",
    "                ext = '.bin'\n",
    "            if 'text' in content_type:\n",
    "                ext = '.txt'\n",
    "            elif 'html' in content_type:\n",
    "                ext = '.html'\n",
    "            filename = 'msg-part-%08d%s' %(counter, ext)\n",
    "        counter += 1\n",
    "    #save file\n",
    "    save_path = os.path.join(os.getcwd(), \"emails\", date_, subject_)\n",
    "    if not os.path.exists(save_path):\n",
    "        os.makedirs(save_path)\n",
    "    with open(os.path.join(save_path, filename), 'wb') as fp:\n",
    "        fp.write(part.get_payload(decode=True))\n",
    "# if \"plain\" in content_type:\n",
    "#     #print(part.get_payload())\n",
    "#     pass\n",
    "# elif \"html\" in content_type:\n",
    "#     html_ = part.get_payload()\n",
    "#     soup = BeautifulSoup(html_, \"html.parser\")\n",
    "#     text = soup.get_text()\n",
    "#     print(subject_)\n",
    "#     print(text)\n",
    "# else:\n",
    "#     pass\n",
    "#     #print(content_type)\n",
    "# #email_message.get_payload()\n"
   ]
  }
 ],
 "metadata": {
  "kernelspec": {
   "display_name": "Python 3",
   "language": "python",
   "name": "python3"
  },
  "language_info": {
   "codemirror_mode": {
    "name": "ipython",
    "version": 3
   },
   "file_extension": ".py",
   "mimetype": "text/x-python",
   "name": "python",
   "nbconvert_exporter": "python",
   "pygments_lexer": "ipython3",
   "version": "3.6.8"
  }
 },
 "nbformat": 4,
 "nbformat_minor": 2
}
