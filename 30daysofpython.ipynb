{
 "cells": [
  {
   "cell_type": "code",
   "execution_count": 1,
   "metadata": {},
   "outputs": [
    {
     "data": {
      "text/plain": [
       "True"
      ]
     },
     "execution_count": 1,
     "metadata": {},
     "output_type": "execute_result"
    }
   ],
   "source": [
    "isinstance(3,int)"
   ]
  },
  {
   "cell_type": "code",
   "execution_count": 5,
   "metadata": {},
   "outputs": [
    {
     "name": "stdout",
     "output_type": "stream",
     "text": [
      "['AA', 'BB', 'aa', 'bb']\n",
      "['BB', 'bb', 'AA', 'aa']\n"
     ]
    }
   ],
   "source": [
    "l1 = ['AA','aa','BB','bb']\n",
    "l1.sort()\n",
    "print(l1)\n",
    "l1.sort(key = str.lower,reverse = True)\n",
    "print(l1)"
   ]
  },
  {
   "cell_type": "markdown",
   "metadata": {},
   "source": [
    "## smtplib — SMTP protocol client¶"
   ]
  },
  {
   "cell_type": "raw",
   "metadata": {},
   "source": [
    "The smtplib module defines an SMTP client session object that can be used to send mail to any Internet machine with an SMTP or ESMTP listener daemon. For details of SMTP and ESMTP operation, consult RFC 821 (Simple Mail Transfer Protocol) and RFC 1869 (SMTP Service Extensions).\n",
    "\n",
    "For normal use, you should only require the initialization/connect, sendmail(), and SMTP.quit() methods. \n",
    "\n",
    "class smtplib.SMTP(host='', port=0, local_hostname=None, [timeout, ]source_address=None)¶\n",
    "\n",
    "The SMTP class supports the with statement. When used like this, the SMTP QUIT command is issued automatically when the with statement.\n",
    "\n",
    "from smtplib import SMTP\n",
    "with SMTP(\"domain.org\") as smtp:\n",
    "...     smtp.noop()\n"
   ]
  },
  {
   "cell_type": "markdown",
   "metadata": {},
   "source": [
    "# Exceptions"
   ]
  },
  {
   "cell_type": "raw",
   "metadata": {},
   "source": [
    "exception smtplib.SMTPException\n",
    "Subclass of OSError that is the base exception class for all the other exceptions provided by this module.\n",
    "\n",
    "Changed in version 3.4: SMTPException became subclass of OSError\n",
    "\n",
    "exception smtplib.SMTPServerDisconnected\n",
    "This exception is raised when the server unexpectedly disconnects, or when an attempt is made to use the SMTP instance before connecting it to a server.\n",
    "\n",
    "exception smtplib.SMTPResponseException\n",
    "Base class for all exceptions that include an SMTP error code. These exceptions are generated in some instances when the SMTP server returns an error code. The error code is stored in the smtp_code attribute of the error, and the smtp_error attribute is set to the error message.\n",
    "\n",
    "exception smtplib.SMTPSenderRefused\n",
    "Sender address refused. In addition to the attributes set by on all SMTPResponseException exceptions, this sets ‘sender’ to the string that the SMTP server refused.\n",
    "\n",
    "exception smtplib.SMTPRecipientsRefused\n",
    "All recipient addresses refused. The errors for each recipient are accessible through the attribute recipients, which is a dictionary of exactly the same sort as SMTP.sendmail() returns.\n",
    "\n",
    "exception smtplib.SMTPDataError\n",
    "The SMTP server refused to accept the message data.\n",
    "\n",
    "exception smtplib.SMTPConnectError\n",
    "Error occurred during establishment of a connection with the server.\n",
    "\n",
    "exception smtplib.SMTPHeloError\n",
    "The server refused our HELO message.\n",
    "\n",
    "exception smtplib.SMTPNotSupportedError\n",
    "The command or option attempted is not supported by the server.\n",
    "\n",
    "New in version 3.5.\n",
    "\n",
    "exception smtplib.SMTPAuthenticationError\n",
    "SMTP authentication went wrong. Most probably the server didn’t accept the username/password combination provided."
   ]
  },
  {
   "cell_type": "markdown",
   "metadata": {},
   "source": [
    "# SMTP Objects"
   ]
  },
  {
   "cell_type": "raw",
   "metadata": {},
   "source": [
    "SMTP.set_debuglevel(level)\n",
    "Set the debug output level. A true value for level results in debug messages for connection and for all messages sent to and received from the server.\n",
    "\n",
    "SMTP.docmd(cmd[, argstring])\n",
    "Send a command cmd to the server. The optional argument argstring is simply concatenated to the command, separated by a space.\n",
    "\n",
    "This returns a 2-tuple composed of a numeric response code and the actual response line (multiline responses are joined into one long line.)\n",
    "\n",
    "In normal operation it should not be necessary to call this method explicitly. It is used to implement other methods and may be useful for testing private extensions.\n",
    "\n",
    "If the connection to the server is lost while waiting for the reply, SMTPServerDisconnected will be raised.\n",
    "\n",
    "SMTP.connect([host[, port]])\n",
    "Connect to a host on a given port. The defaults are to connect to the local host at the standard SMTP port (25). If the hostname ends with a colon (':') followed by a number, that suffix will be stripped off and the number interpreted as the port number to use. This method is automatically invoked by the constructor if a host is specified during instantiation. Returns a 2-tuple of the response code and message sent by the server in its connection response.\n",
    "\n",
    "SMTP.helo([hostname])\n",
    "Identify yourself to the SMTP server using HELO. The hostname argument defaults to the fully qualified domain name of the local host. The message returned by the server is stored as the helo_resp attribute of the object.\n",
    "\n",
    "In normal operation it should not be necessary to call this method explicitly. It will be implicitly called by the sendmail() when necessary.\n",
    "\n",
    "SMTP.ehlo([hostname])\n",
    "Identify yourself to an ESMTP server using EHLO. The hostname argument defaults to the fully qualified domain name of the local host. Examine the response for ESMTP option and store them for use by has_extn(). Also sets several informational attributes: the message returned by the server is stored as the ehlo_resp attribute, does_esmtp is set to true or false depending on whether the server supports ESMTP, and esmtp_features will be a dictionary containing the names of the SMTP service extensions this server supports, and their parameters (if any).\n",
    "\n",
    "Unless you wish to use has_extn() before sending mail, it should not be necessary to call this method explicitly. It will be implicitly called by sendmail() when necessary.\n",
    "\n",
    "SMTP.ehlo_or_helo_if_needed()\n",
    "This method call ehlo() and or helo() if there has been no previous EHLO or HELO command this session. It tries ESMTP EHLO first.\n",
    "\n",
    "SMTPHeloError\n",
    "The server didn’t reply properly to the HELO greeting.\n",
    "New in version 2.6.\n",
    "\n",
    "SMTP.has_extn(name)\n",
    "Return True if name is in the set of SMTP service extensions returned by the server, False otherwise. Case is ignored.\n",
    "\n",
    "SMTP.verify(address)\n",
    "Check the validity of an address on this server using SMTP VRFY. Returns a tuple consisting of code 250 and a full RFC 822 address (including human name) if the user address is valid. Otherwise returns an SMTP error code of 400 or greater and an error string.\n",
    "\n",
    "SMTP.quit()\n",
    "SMTP.send_message(msg, from_addr=None, to_addrs=None, mail_options=(), rcpt_options=())\n",
    "SMTP.sendmail(from_addr, to_addrs, msg, mail_options=(), rcpt_options=())"
   ]
  },
  {
   "cell_type": "markdown",
   "metadata": {},
   "source": [
    "# Code"
   ]
  },
  {
   "cell_type": "markdown",
   "metadata": {},
   "source": [
    "### Send plain text"
   ]
  },
  {
   "cell_type": "code",
   "execution_count": null,
   "metadata": {},
   "outputs": [],
   "source": [
    "from smtplib import SMTP,SMTPAuthenticationError\n",
    "\n",
    "host = 'smtp.gmail.com'\n",
    "port = 587\n",
    "username = 'pytesting1207@gmail.com'\n",
    "password = 'Python@123'\n",
    "from_email = 'pytesting1207@gmail.com'\n",
    "to_mail = ['abhishekebay02@gmail.com']\n",
    "msg = 'This is a testing mail'\n",
    "try:\n",
    "    email_conn = SMTP(host,port)\n",
    "    print(email_conn.ehlo())\n",
    "    email_conn.starttls()\n",
    "    print(email_conn.login(username,password))\n",
    "    email_conn.sendmail(from_email,to_mail,msg)\n",
    "\n",
    "except SMTPAuthenticationError as s:\n",
    "    print(s)\n",
    "except Exception as e:\n",
    "    print(e)\n",
    "\n",
    "finally:\n",
    "    email_conn.quit()"
   ]
  },
  {
   "cell_type": "markdown",
   "metadata": {},
   "source": [
    "### Send html"
   ]
  },
  {
   "cell_type": "code",
   "execution_count": null,
   "metadata": {},
   "outputs": [],
   "source": [
    "from smtplib import SMTP,SMTPAuthenticationError,SMTPException\n",
    "from email.mime.multipart import MIMEMultipart\n",
    "from email.mime.text import MIMEText\n",
    "\n",
    "host = 'smtp.gmail.com'\n",
    "port = 587\n",
    "username = 'pytesting1207@gmail.com'\n",
    "password = 'Python@123'\n",
    "from_email = 'pytesting1207@gmail.com'\n",
    "to_mail = ['abhishekebay02@gmail.com']\n",
    "msg = 'This is a testing mail'\n",
    "try:\n",
    "    email_conn = SMTP(host,port)\n",
    "    print(email_conn.ehlo())\n",
    "    email_conn.starttls()\n",
    "    print(email_conn.login(username,password))\n",
    "    the_msg = MIMEMultipart('alternative')\n",
    "    the_msg['Subject'] = 'Testing'\n",
    "    the_msg['From'] = from_email\n",
    "    #the_msg['To'] = to_mail\n",
    "    plain_text = 'This is a testing message'\n",
    "    html_text = '''\n",
    "    <html>\n",
    "    <head></head>\n",
    "    <body>\n",
    "    <p>Hey!<br/>This is a testing message.Made by me</p>\n",
    "    </body>\n",
    "    </html>\n",
    "    '''\n",
    "    part1 = MIMEText(plain_text,'plain')\n",
    "    part2 = MIMEText(html_text,'html')\n",
    "    the_msg.attach(part1)\n",
    "    the_msg.attach(part2)\n",
    "    email_conn.sendmail(from_email,to_mail,the_msg.as_string())\n",
    "\n",
    "except SMTPAuthenticationError as s:\n",
    "    print(s)\n",
    "except SMTPException as a:\n",
    "    print(a)\n",
    "except Exception as e:\n",
    "    print(e)\n",
    "\n",
    "finally:\n",
    "    email_conn.quit()"
   ]
  },
  {
   "cell_type": "code",
   "execution_count": null,
   "metadata": {},
   "outputs": [],
   "source": []
  }
 ],
 "metadata": {
  "kernelspec": {
   "display_name": "Python 3",
   "language": "python",
   "name": "python3"
  },
  "language_info": {
   "codemirror_mode": {
    "name": "ipython",
    "version": 3
   },
   "file_extension": ".py",
   "mimetype": "text/x-python",
   "name": "python",
   "nbconvert_exporter": "python",
   "pygments_lexer": "ipython3",
   "version": "3.6.8"
  }
 },
 "nbformat": 4,
 "nbformat_minor": 2
}
